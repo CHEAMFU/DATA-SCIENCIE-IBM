{
 "cells": [
  {
   "cell_type": "markdown",
   "id": "4176c5be-992d-42a1-a62f-1674b0b6ed64",
   "metadata": {},
   "source": [
    "# Data Science Tools and Ecosystem"
   ]
  },
  {
   "cell_type": "markdown",
   "id": "47e7140b-ff50-48c6-9c28-53c18d09bb10",
   "metadata": {},
   "source": [
    "This notebook summarizes the tools and ecosystems of data science."
   ]
  },
  {
   "cell_type": "markdown",
   "id": "714c991e-6f68-429a-9539-cd875c922bd1",
   "metadata": {},
   "source": [
    " **Objectives**\n",
    " \n",
    " - List popular languages for Data Science\n",
    " - List some libraries used in data science\n",
    " - Use tables to show the work environments\n",
    " - Develop examples of arithmetic expressions\n",
    " - Use code to convert minutes to hours"
   ]
  },
  {
   "cell_type": "markdown",
   "id": "05cd633e-fbcc-43c1-9d9b-ca7c5a113935",
   "metadata": {},
   "source": [
    "Some of the popular languages that data scientists use are:\n",
    "1. Python\n",
    "2. JavaScript\n",
    "3. Java\n",
    "4. C\n",
    "5. C++\n",
    "6. Go"
   ]
  },
  {
   "cell_type": "markdown",
   "id": "f264bff9-7fa6-4cfc-9f75-2012cb8d4e9e",
   "metadata": {},
   "source": [
    "Some of the libraries commonly used by data scientists include:\n",
    "\n",
    "1. TensorFlow\n",
    "2. SciPy\n",
    "3. Pandas\n",
    "4. NumPy\n",
    "5. Matplotlib\n",
    "\n"
   ]
  },
  {
   "cell_type": "markdown",
   "id": "2a1550cf-26de-46f2-90ec-468e035632e7",
   "metadata": {},
   "source": [
    "| Data Science Tools |\n",
    "| ------------------- |\n",
    "| Jupyter Notebook |\n",
    "| RStudio |\n",
    "| Apache Spark |"
   ]
  },
  {
   "cell_type": "markdown",
   "id": "f6fa442d-e4af-40fb-898b-f3b832e31ce8",
   "metadata": {},
   "source": [
    "### Below are some examples of evaluating arithmetic expressions in Python.\n",
    "\n",
    "3 + 7 = 10\n",
    "\n",
    "12 - 5 = 7\n",
    "\n",
    "16 / 2 = 8\n",
    "\n",
    "4 * 2 = 8"
   ]
  },
  {
   "cell_type": "code",
   "execution_count": 2,
   "id": "932c5632-d935-42ec-a8ab-417db7a9cec0",
   "metadata": {},
   "outputs": [
    {
     "data": {
      "text/plain": [
       "17"
      ]
     },
     "execution_count": 2,
     "metadata": {},
     "output_type": "execute_result"
    }
   ],
   "source": [
    "# This is a simple arithmetic expression to multiply and then add integers.\n",
    "(3*4)+5"
   ]
  },
  {
   "cell_type": "code",
   "execution_count": 6,
   "id": "3b23ad41-15ec-41a4-ad80-9fa17971b4cc",
   "metadata": {},
   "outputs": [
    {
     "name": "stdout",
     "output_type": "stream",
     "text": [
      "3.3333333333333335\n"
     ]
    }
   ],
   "source": [
    "# This will convert 200 minutes to hours by dividing by 60\n",
    "minutes  = 200\n",
    "hours = minutes / 60\n",
    "print (hours)"
   ]
  },
  {
   "cell_type": "markdown",
   "id": "ae0d4637-0b13-48d9-8757-3d826f936562",
   "metadata": {},
   "source": [
    "## Author\n",
    "Rodriguez Covarrubias Hector"
   ]
  },
  {
   "cell_type": "code",
   "execution_count": null,
   "id": "9391bfd8-54f0-4e9f-8a11-80e602e4fce7",
   "metadata": {},
   "outputs": [],
   "source": []
  }
 ],
 "metadata": {
  "kernelspec": {
   "display_name": "Python 3 (ipykernel)",
   "language": "python",
   "name": "python3"
  },
  "language_info": {
   "codemirror_mode": {
    "name": "ipython",
    "version": 3
   },
   "file_extension": ".py",
   "mimetype": "text/x-python",
   "name": "python",
   "nbconvert_exporter": "python",
   "pygments_lexer": "ipython3",
   "version": "3.12.7"
  }
 },
 "nbformat": 4,
 "nbformat_minor": 5
}
